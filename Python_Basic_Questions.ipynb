{
  "nbformat": 4,
  "nbformat_minor": 0,
  "metadata": {
    "colab": {
      "provenance": []
    },
    "kernelspec": {
      "name": "python3",
      "display_name": "Python 3"
    },
    "language_info": {
      "name": "python"
    }
  },
  "cells": [
    {
      "cell_type": "markdown",
      "source": [
        "# Python Basic Questions\n",
        "   \n",
        "  "
      ],
      "metadata": {
        "id": "apIcaD-n8z9A"
      }
    },
    {
      "cell_type": "markdown",
      "source": [
        "1. What is Python, and why is it popular?\n",
        "-   Python is a general-purpose, high-level, interpreted programming language that is used for many different tasks.\n",
        "- Python is popular because it is a versatile, easy-to-learn programming language that's used in many applications, including web development, data science, and machine learning. It has a lot of libraries like Pandas and a huge active community."
      ],
      "metadata": {
        "id": "d_9MtbKW9DrJ"
      }
    },
    {
      "cell_type": "markdown",
      "source": [
        "2. What is an interpreter in Python?\n",
        "- An interpreter in Python is a program that reads and executes your Python code line by line. It translates the code written in Python into machine-readable instructions during runtime."
      ],
      "metadata": {
        "id": "AnkMEwubBfos"
      }
    },
    {
      "cell_type": "markdown",
      "source": [
        "3. What are pre-defined keywords in Python?\n",
        "- There are many pre-defined keywords in python, some are as follows-:\n",
        "- class, if, elif, else, for, break, etc.:"
      ],
      "metadata": {
        "id": "Sf_jFcPWCflT"
      }
    },
    {
      "cell_type": "markdown",
      "source": [
        "4. Can keywords be used as variable names?\n",
        "- NO keywords can't be used as variabel names."
      ],
      "metadata": {
        "id": "QZVg07CtD0Ge"
      }
    },
    {
      "cell_type": "markdown",
      "source": [
        "   5. What is mutability in Python?\n",
        "- Objects or container whose state can be changed after they are created are known as mutability in python.\n",
        "-eg-: lists, sets, dictionaries."
      ],
      "metadata": {
        "id": "a6-Jw_13EIkf"
      }
    },
    {
      "cell_type": "markdown",
      "source": [
        "6. Why are lists mutable, but tuples are immutable?\n",
        "- Lists are mutable because it can store collection of data and can be updated or change if user wants. But  tuplesare immutables beacuse it can store only fixed data, once it created it will be same."
      ],
      "metadata": {
        "id": "qD3zHzZgVLgR"
      }
    },
    {
      "cell_type": "markdown",
      "source": [
        "7. What is the difference between “==” and “is” operators in Python?\n",
        "-  The\"==\" operator compares the value of the two object whether they are same or not . It will give true if the values are same.  \n",
        "EXAMPLE:-"
      ],
      "metadata": {
        "id": "HKHE2dbT0ks_"
      }
    },
    {
      "cell_type": "markdown",
      "source": [],
      "metadata": {
        "id": "UADlFNxHWZZH"
      }
    },
    {
      "cell_type": "code",
      "source": [
        "a =[1, 2, 3]\n",
        "b =[1, 2, 3]\n",
        "print(a==b)  # it will give true the values are same"
      ],
      "metadata": {
        "colab": {
          "base_uri": "https://localhost:8080/"
        },
        "id": "zXqQSSRj1uAV",
        "outputId": "0b8151fe-135d-4814-b71c-5a085e32edc0"
      },
      "execution_count": null,
      "outputs": [
        {
          "output_type": "stream",
          "name": "stdout",
          "text": [
            "True\n"
          ]
        }
      ]
    },
    {
      "cell_type": "markdown",
      "source": [
        " - The \"is\" operator checks that the two variables values are same in the memory or not, if they are same it will give true.                              \n",
        " EXAPLE:-"
      ],
      "metadata": {
        "id": "4C-WZZIn2c-A"
      }
    },
    {
      "cell_type": "code",
      "source": [
        "a=[1, 2, 3]\n",
        "b=a\n",
        "print(a is b) #it will give true"
      ],
      "metadata": {
        "colab": {
          "base_uri": "https://localhost:8080/"
        },
        "id": "VNhKutMU3lSh",
        "outputId": "f8ae6207-0e9f-40a9-e1a0-37cfa2e20736"
      },
      "execution_count": null,
      "outputs": [
        {
          "output_type": "stream",
          "name": "stdout",
          "text": [
            "True\n"
          ]
        }
      ]
    },
    {
      "cell_type": "markdown",
      "source": [
        "8.  What are logical operators in Python?\n",
        "- The logical operators in python are:-\n",
        "-and\n",
        "-or\n",
        "-not"
      ],
      "metadata": {
        "id": "ys81JOy236qj"
      }
    },
    {
      "cell_type": "markdown",
      "source": [
        "9.  What is type casting in Python?\n",
        "-  The type casting refers here of converting the value of one  data type into another data type. We can change INT into FLOAT and STRING into INT , etc."
      ],
      "metadata": {
        "id": "3s_wWH025EU1"
      }
    },
    {
      "cell_type": "markdown",
      "source": [
        "10.  What is the difference between implicit and explicit type casting?\n",
        "-    In implicit, type casting happens automatically without needed to be written any code ..\n",
        "- Example-:  int changes to float automtically"
      ],
      "metadata": {
        "id": "Ky4xbyZf6Feu"
      }
    },
    {
      "cell_type": "code",
      "source": [
        "# EXAMPLE OF IMPLICIT TYPE CASTING\n",
        "a = 5\n",
        "b = 10.2\n",
        "sum = a + b\n",
        "print(sum) #The output will be 15.2 in float"
      ],
      "metadata": {
        "colab": {
          "base_uri": "https://localhost:8080/"
        },
        "id": "C20zOZO2jovy",
        "outputId": "0de5ec35-0655-40be-c618-23dabbec7dba"
      },
      "execution_count": null,
      "outputs": [
        {
          "output_type": "stream",
          "name": "stdout",
          "text": [
            "15.2\n"
          ]
        }
      ]
    },
    {
      "cell_type": "markdown",
      "source": [
        " - In explicit, type casting we have to maunally code the changes what we want to do.\n",
        " -"
      ],
      "metadata": {
        "id": "ZUe1quq2lQBd"
      }
    },
    {
      "cell_type": "code",
      "source": [
        "a = \"42\"  # String\n",
        "b = int(a)\n",
        "print(a)  # Output: 42 in int\n"
      ],
      "metadata": {
        "colab": {
          "base_uri": "https://localhost:8080/"
        },
        "id": "qbXcSoMTl5T9",
        "outputId": "9cc2124e-592c-4ff1-d5f7-a7ac7e0ffecb"
      },
      "execution_count": null,
      "outputs": [
        {
          "output_type": "stream",
          "name": "stdout",
          "text": [
            "42\n"
          ]
        }
      ]
    },
    {
      "cell_type": "markdown",
      "source": [
        " 11. What is the purpose of conditional statements in Python?\n",
        " -  The purpose of conditional statements in Python is to:-\n",
        "    -   Check the condition and execute the program.\n",
        "    -  The condition runs line by line.\n",
        " -  There are 4 common if condition statement\n",
        "    -  if\n",
        "    - if-else\n",
        "    - if-elif-else\n",
        "    - nested if"
      ],
      "metadata": {
        "id": "PznxRlSemKY5"
      }
    },
    {
      "cell_type": "markdown",
      "source": [
        "12.  How does the elif statement work?\n",
        "-  The elif statement in Python is a way to check multiple conditions one after the other. It stands for \"else if\" and is used after an if statement. If the if condition is false, the elif condition is checked. This helps avoid writing multiple separate if statements. If none of the conditions are true, an optional else block can handle the remaining cases."
      ],
      "metadata": {
        "id": "5pvf6Ouqd6zS"
      }
    },
    {
      "cell_type": "markdown",
      "source": [
        "13. What is the difference between for and while loops?\n",
        "-  FOR LOOP:-\n",
        " -  Used when the number of iterations is known or when you are iterating over a sequence like a list, tuple, string, or range. It automatically stops when  the sequences stop.\n",
        "\n",
        "- WHILE LOOP:-\n",
        " -   Used when the number of iterations is unknown, and the loop runs as long as the condition is true. So it requires a condition to stops infinite loops."
      ],
      "metadata": {
        "id": "FcbxC0q6es-R"
      }
    },
    {
      "cell_type": "markdown",
      "source": [
        "14. Describe a scenario where a while loop is more suitable than a for loop?\n",
        "- The condition where the numbers of iteration is unknown  in that situation while loop is more suitable than for loop."
      ],
      "metadata": {
        "id": "mTuT2ECNf23V"
      }
    },
    {
      "cell_type": "markdown",
      "source": [
        "#PRACTICAL QUESTIONS\n"
      ],
      "metadata": {
        "id": "5jMKwCTbgaf6"
      }
    },
    {
      "cell_type": "code",
      "source": [
        "# 1. Write a Python program to print \"Hello, World!\n",
        "\n",
        "print(\"Hello World\")"
      ],
      "metadata": {
        "colab": {
          "base_uri": "https://localhost:8080/"
        },
        "id": "vN6haRjS8SGg",
        "outputId": "ee832e80-27ff-47e2-f8d1-ce8312430097"
      },
      "execution_count": null,
      "outputs": [
        {
          "output_type": "stream",
          "name": "stdout",
          "text": [
            "Hello World\n"
          ]
        }
      ]
    },
    {
      "cell_type": "code",
      "source": [
        "# 2.  Write a Python program that displays your name and age\n",
        "\n",
        "name =\"Mehraab Alam\"\n",
        "age = 19\n",
        "print( \"My name is\", name, \"\\n and my age is\", age)"
      ],
      "metadata": {
        "colab": {
          "base_uri": "https://localhost:8080/"
        },
        "id": "G3b6tJJ89Rdq",
        "outputId": "8b9ab4ec-9666-4775-d60d-1bf6cca94382"
      },
      "execution_count": null,
      "outputs": [
        {
          "output_type": "stream",
          "name": "stdout",
          "text": [
            "My name is Mehraab Alam \n",
            " and my age is 19\n"
          ]
        }
      ]
    },
    {
      "cell_type": "code",
      "source": [
        " # 3. Write code to print all the pre-defined keywords in Python using the keyword library\n",
        "import keyword\n",
        "print(keyword.kwlist) #keyword.kwlist is an attribute that stores reserved keywords"
      ],
      "metadata": {
        "colab": {
          "base_uri": "https://localhost:8080/"
        },
        "id": "U692jIFm_RMc",
        "outputId": "8d151921-57f5-48ab-8d63-7e70a398ecae"
      },
      "execution_count": null,
      "outputs": [
        {
          "output_type": "stream",
          "name": "stdout",
          "text": [
            "['False', 'None', 'True', 'and', 'as', 'assert', 'async', 'await', 'break', 'class', 'continue', 'def', 'del', 'elif', 'else', 'except', 'finally', 'for', 'from', 'global', 'if', 'import', 'in', 'is', 'lambda', 'nonlocal', 'not', 'or', 'pass', 'raise', 'return', 'try', 'while', 'with', 'yield']\n"
          ]
        }
      ]
    },
    {
      "cell_type": "code",
      "source": [
        " #.4.  Write a program that checks if a given word is a Python keyword?\n",
        "import keyword\n",
        "word = input(\"Enter a word: \")\n",
        "if keyword.iskeyword(word):\n",
        "    print(f\"{word} is a Python keyword.\")\n",
        "else:\n",
        "    print(f\"{word} is not a Python keyword.\")"
      ],
      "metadata": {
        "id": "DUbyAUrvAN9E",
        "colab": {
          "base_uri": "https://localhost:8080/"
        },
        "outputId": "5e28ce4e-2813-4bea-8b40-09331a8ac8e1"
      },
      "execution_count": 1,
      "outputs": [
        {
          "output_type": "stream",
          "name": "stdout",
          "text": [
            "Enter a word: d\n",
            "d is not a Python keyword.\n"
          ]
        }
      ]
    },
    {
      "cell_type": "code",
      "source": [
        "#.5. Create a list and tuple in Python, and demonstrate how attempting to change an element works differently for each other?\n",
        "list1= [1, 2, 33, 40, 75]\n",
        "tuple1= (1, 2, 30, 40, 50)\n",
        "\n",
        "list1[4]= 20 # the index 4 and 0 will replace\n",
        "list1[0]= 11\n",
        "print(list1)\n",
        "\n",
        "tuple1[1]= 34\n",
        "print(tuple1) # it will give type error after the execution"
      ],
      "metadata": {
        "id": "amRcQrTj1wHA",
        "colab": {
          "base_uri": "https://localhost:8080/"
        },
        "outputId": "8b2f920b-124b-4fa7-9a1b-6c40cd663b0b"
      },
      "execution_count": null,
      "outputs": [
        {
          "output_type": "stream",
          "name": "stdout",
          "text": [
            "[11, 2, 33, 40, 20]\n",
            "(1, 2, 30, 40, 50)\n"
          ]
        }
      ]
    },
    {
      "cell_type": "code",
      "source": [
        "#.6. Write a function to demonstrate the behavior of mutable and immutable arguments?\n"
      ],
      "metadata": {
        "id": "BaxS6-NMXQKI"
      },
      "execution_count": null,
      "outputs": []
    },
    {
      "cell_type": "code",
      "source": [
        "#.7. QUESTION 6 REPEATED"
      ],
      "metadata": {
        "id": "FpsEbxRQYU6x"
      },
      "execution_count": null,
      "outputs": []
    },
    {
      "cell_type": "code",
      "source": [
        "#.8.Write a program to demonstrate the use of logical operators?\n",
        "a = 10\n",
        "b = 20\n",
        "c = 30\n",
        "\n",
        "# AND operator\n",
        "if a < b and b < c:\n",
        "    print(\"Both conditions are True (AND)\")\n",
        "\n",
        "# OR operator\n",
        "if a > b or b < c:\n",
        "    print(\"At least one condition is True (OR)\")\n",
        "\n",
        "# NOT operator\n",
        "if not a > b:\n",
        "    print(\"The condition is False, but NOT makes it True\")\n"
      ],
      "metadata": {
        "id": "ilbvrh9iYWxS",
        "colab": {
          "base_uri": "https://localhost:8080/"
        },
        "outputId": "9d8fce53-a522-4213-fabb-c6065ed62b06"
      },
      "execution_count": null,
      "outputs": [
        {
          "output_type": "stream",
          "name": "stdout",
          "text": [
            "Both conditions are True (AND)\n",
            "At least one condition is True (OR)\n",
            "The condition is False, but NOT makes it True\n"
          ]
        }
      ]
    },
    {
      "cell_type": "code",
      "source": [
        "#.9.Write a Python program to convert user input from string to integer, float, and boolean types\"?\n",
        "a = input(\"Enter a number: \")\n",
        "b = int(a)\n",
        "c = float(a)\n",
        "d = bool(a)\n",
        "print(b)\n",
        "print(c)\n",
        "print(d)"
      ],
      "metadata": {
        "id": "IBZfN6-fYerv",
        "colab": {
          "base_uri": "https://localhost:8080/"
        },
        "outputId": "ca5d350e-9d04-4c57-ef02-f30e7621d8e2"
      },
      "execution_count": null,
      "outputs": [
        {
          "output_type": "stream",
          "name": "stdout",
          "text": [
            "Enter a number: 30\n",
            "30\n",
            "30.0\n",
            "True\n",
            "30\n"
          ]
        }
      ]
    },
    {
      "cell_type": "code",
      "source": [
        "#.10.Write code to demonstrate type casting with list elements?\n",
        "list1 = [\"10\", \"20\", \"30\", \"40\"]\n",
        "int_list = [int(x) for x in list1]\n",
        "print(int_list)\n",
        "float_list = [float(x) for x in list1]\n",
        "print(float_list)\n",
        "bool_list = [bool(x) for x in list1]\n",
        "print(bool_list)"
      ],
      "metadata": {
        "id": "lTvWf8ACYgYY",
        "colab": {
          "base_uri": "https://localhost:8080/"
        },
        "outputId": "91b92a61-d518-4414-f30e-e0b87ee85032"
      },
      "execution_count": null,
      "outputs": [
        {
          "output_type": "stream",
          "name": "stdout",
          "text": [
            "[10, 20, 30, 40]\n",
            "[10.0, 20.0, 30.0, 40.0]\n",
            "[True, True, True, True]\n"
          ]
        }
      ]
    },
    {
      "cell_type": "code",
      "source": [
        "#.11.Write a program that checks if a number is positive, negative, or zero?\n",
        "num = int(input(\"Enter a number: \"))\n",
        "if num > 0:\n",
        "    print(\"The number is positive.\")\n",
        "elif num < 0:\n",
        "    print(\"The number is negative.\")\n",
        "else:\n",
        "    print(\"The number is zero.\")"
      ],
      "metadata": {
        "id": "e7LrENZ2Yh_m",
        "colab": {
          "base_uri": "https://localhost:8080/"
        },
        "outputId": "f9ea4c8b-176f-4407-fb40-ca0dcfb00a42"
      },
      "execution_count": null,
      "outputs": [
        {
          "output_type": "stream",
          "name": "stdout",
          "text": [
            "Enter a number: -1\n",
            "The number is negative.\n"
          ]
        }
      ]
    },
    {
      "cell_type": "code",
      "source": [
        "#.12. Write a for loop to print numbers from 1 to 100?\n",
        "i=0\n",
        "for i in range(1, 11):\n",
        " print(i)"
      ],
      "metadata": {
        "colab": {
          "base_uri": "https://localhost:8080/"
        },
        "id": "jsrZt757YjvL",
        "outputId": "512f710d-218b-4d00-81b2-de9eb49559c0"
      },
      "execution_count": null,
      "outputs": [
        {
          "output_type": "stream",
          "name": "stdout",
          "text": [
            "1\n",
            "2\n",
            "3\n",
            "4\n",
            "5\n",
            "6\n",
            "7\n",
            "8\n",
            "9\n",
            "10\n"
          ]
        }
      ]
    },
    {
      "cell_type": "code",
      "source": [
        "#.13. Write a Python program to find the sum of all even numbers between 1 to 50?\n",
        "sum = 0\n",
        "for i in range(1, 51):\n",
        "    if i % 2 == 0:\n",
        "        sum += i\n",
        "print(sum)"
      ],
      "metadata": {
        "colab": {
          "base_uri": "https://localhost:8080/"
        },
        "id": "AZdjI1ypbljW",
        "outputId": "84de1958-8c9b-4fd4-aecc-0f0897f633aa"
      },
      "execution_count": null,
      "outputs": [
        {
          "output_type": "stream",
          "name": "stdout",
          "text": [
            "650\n"
          ]
        }
      ]
    },
    {
      "cell_type": "code",
      "source": [
        "#.14. Wrrite a program to reverse a string using a while loop?\n",
        "string = input(\"Enter a string: \")\n",
        "reversed_string = \"\"\n",
        "index = len(string) - 1\n",
        "while index >= 0:\n",
        "    reversed_string += string[index]\n",
        "    index -= 1\n",
        "print(reversed_string)"
      ],
      "metadata": {
        "id": "Gr50H-5JYoL4",
        "colab": {
          "base_uri": "https://localhost:8080/"
        },
        "outputId": "2d3854b1-7d1d-426a-e460-e6a7befc3c69"
      },
      "execution_count": 2,
      "outputs": [
        {
          "output_type": "stream",
          "name": "stdout",
          "text": [
            "Enter a string: alam\n",
            "mala\n"
          ]
        }
      ]
    },
    {
      "cell_type": "code",
      "source": [
        "#.15.Write a Python program to calculate the factorial of a number provided by the user using a while loop?\n",
        "num = int(input(\"enter a number\"))\n",
        "fact =1\n",
        "while num > 0:\n",
        "  fact = fact*num\n",
        "  num = num-1\n",
        "  print(fact)"
      ],
      "metadata": {
        "id": "wEnp-WysYpso",
        "colab": {
          "base_uri": "https://localhost:8080/"
        },
        "outputId": "5d0e4b96-25c8-4e43-c131-0beeecbeddd8"
      },
      "execution_count": 3,
      "outputs": [
        {
          "output_type": "stream",
          "name": "stdout",
          "text": [
            "enter a number7\n",
            "7\n",
            "42\n",
            "210\n",
            "840\n",
            "2520\n",
            "5040\n",
            "5040\n"
          ]
        }
      ]
    }
  ]
}